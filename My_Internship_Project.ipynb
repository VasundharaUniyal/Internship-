{
 "cells": [
  {
   "cell_type": "markdown",
   "id": "469df195",
   "metadata": {},
   "source": [
    "## Project Objectives\n",
    "\n",
    "objectives. Noting the goals that this project is aiming to achieve will help in determining its\n",
    "inclusions and limits.\n",
    "\n",
    "Date: 21/12/2023 Duration: 7 Days Project : Basic Quiz Game\n",
    "\n",
    "## Project Overview:\n",
    "\n",
    "Build a simple quiz game that asks users a series of questions.\n",
    "Implement a scoring system to evaluate the user's performance.\n",
    "Enhance user interaction by allowing them to input their answers.\n",
    "Reinforce Python fundamentals, including data structures, control flow, and user input\n",
    "handling.\n",
    "Gain practical experience in structuring a small Python project."
   ]
  },
  {
   "cell_type": "code",
   "execution_count": 4,
   "id": "3cea376d",
   "metadata": {},
   "outputs": [
    {
     "name": "stdout",
     "output_type": "stream",
     "text": [
      "Welcome to the Basic Quiz Game!\n",
      "\n",
      "What is the largest planet in our solar system?\n",
      "A. Earth\n",
      "B. Jupiter\n",
      "C. Mars\n",
      "Your answer: B\n",
      "Correct!\n",
      "\n",
      "What is the capital of France?\n",
      "A. Paris\n",
      "B. Rome\n",
      "C. Berlin\n",
      "Your answer: A\n",
      "Correct!\n",
      "\n",
      "Which programming language is known for its readability?\n",
      "A. Java\n",
      "B. Python\n",
      "C. C++\n",
      "Your answer: B\n",
      "Correct!\n",
      "\n",
      "Quiz completed! Your final score is 3/3\n"
     ]
    }
   ],
   "source": [
    "import random\n",
    "\n",
    "class QuizGame:\n",
    "    def __init__(self):\n",
    "        self.questions = [\n",
    "            {\"question\": \"What is the capital of France?\", \"options\": [\"A. Paris\", \"B. Rome\", \"C. Berlin\"], \"correct_answer\": \"A\"},\n",
    "            {\"question\": \"Which programming language is known for its readability?\", \"options\": [\"A. Java\", \"B. Python\", \"C. C++\"], \"correct_answer\": \"B\"},\n",
    "            {\"question\": \"What is the largest planet in our solar system?\", \"options\": [\"A. Earth\", \"B. Jupiter\", \"C. Mars\"], \"correct_answer\": \"B\"}\n",
    "        ]\n",
    "        self.score = 0\n",
    "\n",
    "    def display_question(self, question):\n",
    "        print(question[\"question\"])\n",
    "        for option in question[\"options\"]:\n",
    "            print(option)\n",
    "        user_answer = input(\"Your answer: \").upper()\n",
    "        return user_answer\n",
    "\n",
    "    def evaluate_answer(self, user_answer, correct_answer):\n",
    "        if user_answer == correct_answer:\n",
    "            print(\"Correct!\\n\")\n",
    "            self.score += 1\n",
    "        else:\n",
    "            print(f\"Incorrect. The correct answer is {correct_answer}.\\n\")\n",
    "\n",
    "    def start_quiz(self):\n",
    "        print(\"Welcome to the Basic Quiz Game!\\n\")\n",
    "        random.shuffle(self.questions)\n",
    "\n",
    "        for question in self.questions:\n",
    "            user_answer = self.display_question(question)\n",
    "            self.evaluate_answer(user_answer, question[\"correct_answer\"])\n",
    "\n",
    "        print(f\"Quiz completed! Your final score is {self.score}/{len(self.questions)}\")\n",
    "\n",
    "if __name__ == \"__main__\":\n",
    "    quiz_game = QuizGame()\n",
    "    quiz_game.start_quiz()"
   ]
  },
  {
   "cell_type": "markdown",
   "id": "76fef41a",
   "metadata": {},
   "source": [
    "This Python code defines a QuizGame class with methods to display questions, get user input, evaluate answers, and start the quiz. The questions are stored in a list of dictionaries, each containing the question, options, and correct answer. The quiz is then shuffled, and the user goes through each question, providing answers and receiving feedback. Finally, the user's total score is displayed. Feel free to modify or extend the code based on your preferences and additional features you'd like to implement."
   ]
  }
 ],
 "metadata": {
  "kernelspec": {
   "display_name": "Python 3 (ipykernel)",
   "language": "python",
   "name": "python3"
  },
  "language_info": {
   "codemirror_mode": {
    "name": "ipython",
    "version": 3
   },
   "file_extension": ".py",
   "mimetype": "text/x-python",
   "name": "python",
   "nbconvert_exporter": "python",
   "pygments_lexer": "ipython3",
   "version": "3.10.13"
  }
 },
 "nbformat": 4,
 "nbformat_minor": 5
}
